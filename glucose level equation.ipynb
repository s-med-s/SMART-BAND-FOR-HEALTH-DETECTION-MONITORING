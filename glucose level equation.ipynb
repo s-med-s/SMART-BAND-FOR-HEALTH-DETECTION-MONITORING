{
 "cells": [
  {
   "cell_type": "code",
   "execution_count": null,
   "id": "74672081-c0ed-4939-aa1f-79ddf9d1c975",
   "metadata": {},
   "outputs": [],
   "source": [
    "import numpy as np\n",
    "\n",
    "# البيانات التجريبيةIR\n",
    "x = np.array([134260,113260,109960,120794,113460,120990,101860,128230,112600,89700,111500])  # المقاومة\n",
    "y = np.array([95,199,218,170,82,107,137,163,73,106,71])         # الجلوكوز\n",
    "\n",
    "# حساب الانحدار الخطي\n",
    "m, c = np.polyfit(x, y, 1)\n",
    "\n",
    "print(f\"معادلة الخط: y = {m} * x + {c}\")"
   ]
  }
 ],
 "metadata": {
  "kernelspec": {
   "display_name": "Python 3 (ipykernel)",
   "language": "python",
   "name": "python3"
  },
  "language_info": {
   "codemirror_mode": {
    "name": "ipython",
    "version": 3
   },
   "file_extension": ".py",
   "mimetype": "text/x-python",
   "name": "python",
   "nbconvert_exporter": "python",
   "pygments_lexer": "ipython3",
   "version": "3.12.7"
  }
 },
 "nbformat": 4,
 "nbformat_minor": 5
}
